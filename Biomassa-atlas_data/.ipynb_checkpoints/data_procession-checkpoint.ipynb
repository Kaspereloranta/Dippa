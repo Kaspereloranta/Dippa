{
 "cells": [
  {
   "cell_type": "code",
   "execution_count": 168,
   "id": "6b706ff7",
   "metadata": {},
   "outputs": [],
   "source": [
    "import pandas as pd\n",
    "import geopandas as gpd\n",
    "import numpy as np\n",
    "import re\n",
    "from shapely.geometry import MultiPolygon, Polygon, Point\n",
    "from sklearn.cluster import KMeans\n",
    "from geopy.distance import distance\n",
    "from ast import literal_eval\n",
    "import math \n",
    "from geopy.distance import distance\n",
    "import pyproj\n",
    "import ast\n",
    "import matplotlib.pyplot as plt \n",
    "from matplotlib.backends.backend_pdf import PdfPages\n"
   ]
  },
  {
   "cell_type": "code",
   "execution_count": 169,
   "id": "3ab970e7",
   "metadata": {},
   "outputs": [],
   "source": [
    "def plot_data(df, title):\n",
    "    # Separate x and y values from the coordinate tuples and get masses of each point\n",
    "    x_values = [row['Biomass location'][0] for _, row in df.iterrows()]\n",
    "    y_values = [row['Biomass location'][1] for _, row in df.iterrows()]\n",
    "    mass_values = df['Mass'].values\n",
    "\n",
    "    # Plot the data with the colors based on mass\n",
    "    fig, ax = plt.subplots(figsize=(8, 8))\n",
    "    sc = ax.scatter(x_values, y_values, c=mass_values, cmap='viridis', s=100)\n",
    "    plt.xlabel('X', fontsize=14)\n",
    "    plt.ylabel('Y', fontsize=14)\n",
    "    plt.title(' '.join(title.split(' ')[:4]) + '\\n' + ' '.join(title.split(' ')[4:]), fontsize=16)\n",
    "    plt.tick_params(labelsize=12)\n",
    "    \n",
    "    # Add a colorbar to show the mass values\n",
    "    cbar = plt.colorbar(sc)\n",
    "    cbar.ax.set_ylabel('Mass', fontsize=14)\n",
    "    \n",
    "    path = './pdfs/'\n",
    "    fig.savefig(path + title+'.pdf')\n",
    "    \n",
    "    plt.show()\n"
   ]
  },
  {
   "cell_type": "code",
   "execution_count": 170,
   "id": "d0b4e8bf",
   "metadata": {},
   "outputs": [],
   "source": [
    "def load_and_process_data(filename):\n",
    "    # Read the CSV file and specify the data types of the columns\n",
    "    dtypes = {'Area': str}\n",
    "    df = pd.read_csv(filename, header=0, sep=';', dtype=dtypes)\n",
    "\n",
    "    # Replace characters in the Area column and split it into separate columns\n",
    "    replacements = {'(': '', ')': '', 'MULTIPOLYGON': ''}\n",
    "    for index1, row in df.iterrows():\n",
    "        input_string = str(df['Area'][index1])\n",
    "        for old, new in replacements.items():\n",
    "            input_string = input_string.replace(old, new)\n",
    "        coordinates = input_string.split(',')\n",
    "        for index2, coordinate in enumerate(coordinates):\n",
    "            df.loc[index1,'Coordinate '+ str(index2)]=coordinate\n",
    "\n",
    "    # Calculate the mean points of biomass potentials and replace the coordinates with them\n",
    "    df2 = df[['Coordinate 0','Coordinate 1','Coordinate 2','Coordinate 3']]\n",
    "    df2 = df2.apply(lambda row: tuple(map(lambda x: np.sum(x)/len(x), zip(*[map(float, str(c).split()) for c in row]))), axis=1)\n",
    "    df['Biomass location'] = df2\n",
    "\n",
    "    # Clean the dataframe\n",
    "    df = df.loc[:, ['Mass','Biomass location']]\n",
    "    mask = df['Biomass location'].apply(is_2d_tuple)\n",
    "    df = df[mask]\n",
    "    \n",
    "    return df\n"
   ]
  },
  {
   "cell_type": "code",
   "execution_count": 171,
   "id": "0246c188",
   "metadata": {},
   "outputs": [],
   "source": [
    "def clean_data(df,radius,facilityloc):\n",
    "\n",
    "    # Clean the data (df) from the rows that are further away than the assumed maximum distance (radius)\n",
    "    # from the biogas facility locations (facilityloc). \n",
    "\n",
    "    # Check input parameters\n",
    "    if not isinstance(facilityloc, tuple) or len(facilityloc) != 2 or \\\n",
    "       not all(isinstance(x, (int, float)) for x in facilityloc):\n",
    "        raise ValueError('facilityloc must be a tuple with two numeric elements')\n",
    "\n",
    "    # Define the WGS84 and EUREF-FIN coordinate systems\n",
    "    wgs84 = pyproj.CRS('EPSG:4326')\n",
    "    euref_fin = pyproj.CRS('EPSG:3067')\n",
    "    \n",
    "    # Transform the facility location to EUREF-FIN coordinates\n",
    "    transformer = pyproj.Transformer.from_crs(wgs84, euref_fin, always_xy=True)\n",
    "    facility_euref_x, facility_euref_y = transformer.transform(facilityloc[1], facilityloc[0])\n",
    "    facility_loc = (facility_euref_x, facility_euref_y)\n",
    " \n",
    "    \n",
    "    # Calculate the distances\n",
    "    distances = df['Biomass location'].apply(lambda loc: math.sqrt(pow(facility_loc[0]-loc[0],2)+pow(facility_loc[1]-loc[1],2))/1000)\n",
    "\n",
    "    # Filter the data\n",
    "    df = df.loc[distances <= radius].reset_index(drop=True)\n",
    "    \n",
    "    # Remove zero masses from data\n",
    "    df = df.loc[(df != 0).all(axis=1)]\n",
    "\n",
    "    return df"
   ]
  },
  {
   "cell_type": "code",
   "execution_count": 172,
   "id": "f808f3bd",
   "metadata": {},
   "outputs": [],
   "source": [
    "def is_2d_tuple(val):\n",
    "    \n",
    "    # Check whether val given as parameter is in expected form of tuple. is used by load_and_process data.\n",
    "    \n",
    "    return isinstance(val, tuple) and len(val) == 2 and all(isinstance(x, (int, float)) for x in val)"
   ]
  },
  {
   "cell_type": "code",
   "execution_count": null,
   "id": "3bf24395",
   "metadata": {},
   "outputs": [],
   "source": [
    "filename = input(\"Enter biomassdata filename: \") + '.csv'\n",
    "path = './datasets/'\n",
    "df = load_and_process_data(path+filename)\n",
    "file = filename.split('.',1)[0]\n",
    "df"
   ]
  },
  {
   "cell_type": "code",
   "execution_count": null,
   "id": "afa4ebf2",
   "metadata": {},
   "outputs": [],
   "source": [
    "plot_data(df,'Biomasses of ' + file)"
   ]
  },
  {
   "cell_type": "code",
   "execution_count": null,
   "id": "85018165",
   "metadata": {},
   "outputs": [],
   "source": [
    "#facilityLocation = ast.literal_eval(input(\"Enter the location of the biogas facility in lon-lat coordinates in the form of (lon, lat): \"))\n",
    "#greatestDistance = int(input(\"Enter greatest distance (km) within the radius of which the biomasses are included: \"))\n",
    "\n",
    "# Coordinates for Envor's facility: (60.929833, 23.369694)\n",
    "\n",
    "#df = clean_data(df,greatestDistance,facilityLocation)\n",
    "df = clean_data(df,50,(60.929833, 23.369694))\n",
    "\n",
    "df"
   ]
  },
  {
   "cell_type": "code",
   "execution_count": null,
   "id": "2953bf83",
   "metadata": {},
   "outputs": [],
   "source": [
    "plot_data(df,file+' within the given radius to the biogas facility')"
   ]
  },
  {
   "cell_type": "code",
   "execution_count": null,
   "id": "6b3c1cfe",
   "metadata": {},
   "outputs": [],
   "source": [
    "# Tsekkaa paperi GIS-data related route optimization, hierarchical clustering, location\n",
    "# optimization, and kernel density methods are useful for promoting\n",
    "# distributed bioenergy plant planning in rural areas\n",
    "# K. Laasasenahoa*, A. Lensub*, R. Lauhanenc\n",
    "# and J. Rintalaa\n",
    "\n",
    "# Clustering the data with K-means. Utilzing the elbow method to decide optimal value for k.\n",
    "# The basic idea in elbow method is to plot the within-cluster \n",
    "# sum of squares (WCSS) against the number of clusters, and choose the number of clusters \n",
    "# at the \"elbow\" point where the rate of decrease in WCSS slows down significantly.\n",
    "\n",
    "# To be used in consideration of mass distribution. Each coordinate will be multiplied \n",
    "# with their MassCoefficient in clustering\n",
    "# to give more weight to the points with greater mass. \n",
    "\n",
    "df['MassCoefficient'] = df['Mass'].apply(round).astype(int).clip(lower=1)\n",
    "df['LocationWithMassCoefficient'] = df['Biomass location'] * df['MassCoefficient']\n",
    "\n",
    "coords = df['LocationWithMassCoefficient'].explode().tolist()\n",
    "LocationMassCoords = [(coords[i], coords[i+1]) for i in range(0, len(coords)-1, 2)]\n",
    "LocationMassCoords = np.array(LocationMassCoords)\n",
    "\n",
    "k_vals = list(range(1,100))\n",
    "wcss = []\n",
    "labels=[]\n",
    "\n",
    "for i in k_vals:    \n",
    "    kmeans = KMeans(n_clusters=i,n_init='auto')\n",
    "    kmeans.fit(LocationMassCoords)\n",
    "    wcss.append(kmeans.inertia_)\n",
    "    labels.append(kmeans.predict(LocationMassCoords))\n"
   ]
  },
  {
   "cell_type": "code",
   "execution_count": null,
   "id": "f81393cc",
   "metadata": {},
   "outputs": [],
   "source": [
    "# Plot the WCSS values against the number of clusters\n",
    "plt.plot(range(1, 100), wcss)\n",
    "plt.title('Elbow Method')\n",
    "plt.xlabel('Number of clusters')\n",
    "plt.ylabel('WCSS')\n",
    "plt.show()"
   ]
  },
  {
   "cell_type": "code",
   "execution_count": null,
   "id": "8b1ea8b3",
   "metadata": {},
   "outputs": [],
   "source": [
    "# Based on the graph above, close to optimal and good enough k-values for this datasets is 60.\n",
    "# Let's plot the data with 60 clusters.\n",
    "# Plotting the data\n",
    "\n",
    "KCLUSTERS = 60\n",
    "\n",
    "plt.scatter(LocationMassCoords[:,0],LocationMassCoords[:,1],c=labels[KCLUSTERS-1])"
   ]
  },
  {
   "cell_type": "code",
   "execution_count": null,
   "id": "61766aa5",
   "metadata": {},
   "outputs": [],
   "source": [
    "kmeans = KMeans(n_clusters=KCLUSTERS,n_init='auto')\n",
    "kmeans.fit(LocationMassCoords)\n",
    "\n",
    "locations = df['Biomass location'].tolist()\n",
    "locations = np.array(locations)\n",
    "\n",
    "df['Cluster'] = kmeans.predict(locations)\n",
    "df"
   ]
  },
  {
   "cell_type": "code",
   "execution_count": null,
   "id": "cd0ef332",
   "metadata": {},
   "outputs": [],
   "source": [
    "# Getting masses and locations for each cluster\n",
    "\n",
    "cluster_masses = [[] for _ in range(KCLUSTERS)]\n",
    "cluster_locations = [[] for _ in range(KCLUSTERS)]\n",
    "\n",
    "for index, row in df.iterrows():\n",
    "    cluster_masses[row['Cluster']].append(row['Mass'])\n",
    "    cluster_locations[row['Cluster']].append(row['Biomass location'])"
   ]
  },
  {
   "cell_type": "code",
   "execution_count": null,
   "id": "d80ff946",
   "metadata": {},
   "outputs": [],
   "source": [
    "# Calculate the weighted average centroid for clusters:\n",
    "\n",
    "weighted_avg_centroids = []\n",
    "sum_cluster_masses = []\n",
    "\n",
    "for i in range(KCLUSTERS):\n",
    "    sum_x = np.sum([mass * loc[0] for mass, loc in zip(cluster_masses[i], cluster_locations[i])])\n",
    "    sum_y = np.sum([mass * loc[1] for mass, loc in zip(cluster_masses[i], cluster_locations[i])])\n",
    "    weighted_avg_centroids.append((sum_x / np.sum(cluster_masses[i]), sum_y / np.sum(cluster_masses[i])))\n",
    "    sum_cluster_masses.append(np.sum(cluster_masses[i]))\n"
   ]
  },
  {
   "cell_type": "code",
   "execution_count": null,
   "id": "b050dc2e",
   "metadata": {},
   "outputs": [],
   "source": [
    "# Set up a colormap to color the centroids based on their sum of masses\n",
    "cmap = plt.get_cmap('Reds')\n",
    "norm = plt.Normalize(np.array(sum_cluster_masses).min(), np.array(sum_cluster_masses).max())\n",
    "\n",
    "# Plotting the data with the centroids\n",
    "fig, ax = plt.subplots(figsize=(10,10))\n",
    "\n",
    "# scatter plot of data points and their clusters\n",
    "plt.scatter(locations[:, 0], locations[:, 1], c=df['Cluster'])\n",
    "\n",
    "\n",
    "# scatter plot of cluster centroids colored by their sum of masses\n",
    "centroids = np.array(weighted_avg_centroids)\n",
    "plt.scatter(centroids[:, 0], centroids[:, 1], marker='.', s=200, linewidths=3, c=sum_cluster_masses, cmap=cmap, norm=norm)\n",
    "\n",
    "# Add a colorbar to show the colormap legend\n",
    "cbar = plt.colorbar()\n",
    "cbar.ax.set_ylabel('Sum of Masses')\n",
    "\n",
    "plt.title('Pickup sites for the file '+' '.join(filename.split(' ')[:4]) + '\\n' + ' '.join(filename.split(' ')[4:]), fontsize=16)\n",
    "\n",
    "path = './pdfs/'\n",
    "fig.savefig(path + 'Pickup sites for the file '+filename+'.pdf')\n",
    "\n",
    "plt.show()"
   ]
  },
  {
   "cell_type": "code",
   "execution_count": null,
   "id": "e6f7c86d",
   "metadata": {},
   "outputs": [],
   "source": [
    "# Clusters to df\n",
    "\n",
    "df = pd.DataFrame({'ClusterLocations': weighted_avg_centroids, 'Clustermasses': sum_cluster_masses}, index=range(1, len(weighted_avg_centroids)+1))\n"
   ]
  },
  {
   "cell_type": "code",
   "execution_count": null,
   "id": "e130504f",
   "metadata": {},
   "outputs": [],
   "source": [
    "# define the ETRS-TM35FIN projection\n",
    "etrs_tm35fin = pyproj.Proj(\"+proj=utm +zone=35 +ellps=GRS80 +towgs84=0,0,0,0,0,0,0 +units=m +no_defs\")\n",
    "\n",
    "# define a function to convert EUREF-FIN coordinates to lon-lat\n",
    "def euref_fin_to_lon_lat(row):\n",
    "    lon, lat = etrs_tm35fin(row['ClusterLocations'][0], row['ClusterLocations'][1], inverse=True)\n",
    "    return pd.Series({'lon': lon, 'lat': lat})"
   ]
  },
  {
   "cell_type": "code",
   "execution_count": null,
   "id": "e022da85",
   "metadata": {},
   "outputs": [],
   "source": [
    "df[['lon','lat']] = df.apply(euref_fin_to_lon_lat,axis=1)"
   ]
  },
  {
   "cell_type": "code",
   "execution_count": null,
   "id": "82936cbe",
   "metadata": {},
   "outputs": [],
   "source": [
    "geometry = [Point(xy) for xy in zip(df['lon'], df['lat'])]\n",
    "gdf = gpd.GeoDataFrame(df, geometry=geometry, crs='EPSG:4326')\n",
    "gdf = gdf.drop('ClusterLocations',axis=1) # Not needed anymore, these are in the wrong form of coordinates\n",
    "\n",
    "## save the GeoDataFrame to a GeoJSON file\n",
    "path = './geojsons/'\n",
    "gdf.to_file(path + file+'.geojson', driver='GeoJSON')"
   ]
  },
  {
   "cell_type": "code",
   "execution_count": null,
   "id": "18677a51",
   "metadata": {},
   "outputs": [],
   "source": []
  }
 ],
 "metadata": {
  "kernelspec": {
   "display_name": "Python 3 (ipykernel)",
   "language": "python",
   "name": "python3"
  },
  "language_info": {
   "codemirror_mode": {
    "name": "ipython",
    "version": 3
   },
   "file_extension": ".py",
   "mimetype": "text/x-python",
   "name": "python",
   "nbconvert_exporter": "python",
   "pygments_lexer": "ipython3",
   "version": "3.10.9"
  }
 },
 "nbformat": 4,
 "nbformat_minor": 5
}
