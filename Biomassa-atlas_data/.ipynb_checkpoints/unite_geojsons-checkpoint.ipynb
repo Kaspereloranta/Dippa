{
 "cells": [
  {
   "cell_type": "code",
   "execution_count": 21,
   "id": "14f9f33d",
   "metadata": {},
   "outputs": [],
   "source": [
    "import geopandas as gpd\n",
    "import pandas as pd\n",
    "import os"
   ]
  },
  {
   "cell_type": "code",
   "execution_count": 22,
   "id": "dca9d8a2",
   "metadata": {},
   "outputs": [],
   "source": [
    "def load_geojsons():\n",
    "    \n",
    "    folder_path = './geojsons/'\n",
    "    \n",
    "    # Get a list of all files in the folder\n",
    "    file_list = os.listdir(folder_path)\n",
    "    \n",
    "    # Initialize an empty list to store the GeoDataFrames\n",
    "    geojson_data = []\n",
    "    \n",
    "    for file_name in file_list:\n",
    "        if file_name.endswith('.geojson'):  \n",
    "            file_path = os.path.join(folder_path, file_name)\n",
    "            data = gpd.read_file(file_path)\n",
    "            \n",
    "            # NOTE: THIS HORRIBLE IF-ELIF STRUCTURE IS ONLY TO ENSURE THE TYPE OF BIOMASS IS SAVED TO GEOJSONS, \n",
    "            # IF RUNNING unite_geojsons with older geojsons that did not include the type information, data_procession\n",
    "            # is now fixed to save typeinformation initially to geojsons\n",
    "            \n",
    "            # Extract the data type from the file name\n",
    "            data_type = file_name.split('.')[0]  # Assuming the file name format is \"datatype.geojson\"\n",
    "            \n",
    "            if data_type.startswith(\"H\"):\n",
    "                data_type = 'Hevoset ja ponit, kuivalanta yhteensä varastosta'\n",
    "            elif data_type.startswith(\"Nautojenlie\"):\n",
    "                data_type = 'Lihakarjan lietelanta eläinsuojasta'\n",
    "            elif data_type.startswith(\"Nautojenkui\"):\n",
    "                data_type = 'Lihakarjan kuivalanta yhteensä varastosta'\n",
    "            elif data_type.startswith(\"Siipi\"):\n",
    "                data_type = 'Broilerit, kalkkunat ja muu siipikarja kuivalanta yhteensä varastosta'            \n",
    "            elif data_type.startswith(\"Sikojen lie\"):\n",
    "                data_type = 'Emakot ja porsaat lietelanta eläinsuojasta'\n",
    "            elif data_type.startswith(\"SivuvirtaOl\"):\n",
    "                data_type = 'Sivuvirta: Olki'            \n",
    "            elif data_type.startswith(\"Sivuvirtanurm\"):\n",
    "                data_type = 'Sivuvirta: Kesantonurmi'\n",
    "            elif data_type.startswith(\"Säilö\"):\n",
    "                data_type = 'Sivuvirta: Kuivaheinänurmet'\n",
    "            \n",
    "            # Add the data type as a new column to the GeoDataFrame\n",
    "            data['Type'] = data_type\n",
    "            \n",
    "            geojson_data.append(data)\n",
    "            \n",
    "    return geojson_data"
   ]
  },
  {
   "cell_type": "code",
   "execution_count": 23,
   "id": "11e3232f",
   "metadata": {},
   "outputs": [],
   "source": [
    "def main():\n",
    "    \n",
    "    geojson_data = load_geojsons()\n",
    "    \n",
    "    # Concatenate all GeoDataFrames into a single GeoDataFrame\n",
    "    combined_data = gpd.GeoDataFrame(pd.concat(geojson_data, ignore_index=True))\n",
    "    \n",
    "    # Save the combined GeoJSON to a file\n",
    "    combined_data.to_file('all_pickup_sites.geojson', driver='GeoJSON')"
   ]
  },
  {
   "cell_type": "code",
   "execution_count": 24,
   "id": "5bc037e9",
   "metadata": {},
   "outputs": [],
   "source": [
    "main()"
   ]
  }
 ],
 "metadata": {
  "kernelspec": {
   "display_name": "Python 3 (ipykernel)",
   "language": "python",
   "name": "python3"
  },
  "language_info": {
   "codemirror_mode": {
    "name": "ipython",
    "version": 3
   },
   "file_extension": ".py",
   "mimetype": "text/x-python",
   "name": "python",
   "nbconvert_exporter": "python",
   "pygments_lexer": "ipython3",
   "version": "3.10.9"
  }
 },
 "nbformat": 4,
 "nbformat_minor": 5
}
