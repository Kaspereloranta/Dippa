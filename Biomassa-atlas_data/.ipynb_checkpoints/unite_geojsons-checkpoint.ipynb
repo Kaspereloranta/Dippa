{
 "cells": [
  {
   "cell_type": "code",
   "execution_count": 13,
   "id": "b2746ac2",
   "metadata": {},
   "outputs": [],
   "source": [
    "import geopandas as gpd\n",
    "import pandas as pd\n",
    "import os"
   ]
  },
  {
   "cell_type": "code",
   "execution_count": 14,
   "id": "9a5821a7",
   "metadata": {},
   "outputs": [],
   "source": [
    "def load_geojsons():\n",
    "    \n",
    "    folder_path = './geojsons/'\n",
    "    \n",
    "    # Get a list of all files in the folder\n",
    "    file_list = os.listdir(folder_path)\n",
    "    \n",
    "    # Initialize an empty list to store the GeoDataFrames\n",
    "    geojson_data = []\n",
    "    \n",
    "    for file_name in file_list:\n",
    "        if file_name.endswith('.geojson'):  \n",
    "            file_path = os.path.join(folder_path, file_name)\n",
    "            data = gpd.read_file(file_path)\n",
    "            geojson_data.append(data)\n",
    "            \n",
    "    return geojson_data"
   ]
  },
  {
   "cell_type": "code",
   "execution_count": 15,
   "id": "210b26b9",
   "metadata": {},
   "outputs": [],
   "source": [
    "def main():\n",
    "    \n",
    "    geojson_data = load_geojsons()\n",
    "    \n",
    "    # Concatenate all GeoDataFrames into a single GeoDataFrame\n",
    "    combined_data = gpd.GeoDataFrame(pd.concat(geojson_data, ignore_index=True))\n",
    "    \n",
    "    # Save the combined GeoJSON to a file\n",
    "    combined_data.to_file('geojsons/all_pickup_sites.geojson', driver='GeoJSON')"
   ]
  },
  {
   "cell_type": "code",
   "execution_count": 16,
   "id": "2cfa938b",
   "metadata": {},
   "outputs": [],
   "source": [
    "main()"
   ]
  },
  {
   "cell_type": "code",
   "execution_count": null,
   "id": "10c471de",
   "metadata": {},
   "outputs": [],
   "source": []
  }
 ],
 "metadata": {
  "kernelspec": {
   "display_name": "Python 3 (ipykernel)",
   "language": "python",
   "name": "python3"
  },
  "language_info": {
   "codemirror_mode": {
    "name": "ipython",
    "version": 3
   },
   "file_extension": ".py",
   "mimetype": "text/x-python",
   "name": "python",
   "nbconvert_exporter": "python",
   "pygments_lexer": "ipython3",
   "version": "3.10.9"
  }
 },
 "nbformat": 4,
 "nbformat_minor": 5
}
