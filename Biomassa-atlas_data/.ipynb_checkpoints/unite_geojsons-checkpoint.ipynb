{
 "cells": [
  {
   "cell_type": "code",
   "execution_count": 16,
   "id": "2d0467f3",
   "metadata": {},
   "outputs": [
    {
     "ename": "ModuleNotFoundError",
     "evalue": "No module named 'geopandas'",
     "output_type": "error",
     "traceback": [
      "\u001b[1;31m---------------------------------------------------------------------------\u001b[0m",
      "\u001b[1;31mModuleNotFoundError\u001b[0m                       Traceback (most recent call last)",
      "\u001b[1;32m<ipython-input-16-f2580904cf37>\u001b[0m in \u001b[0;36m<module>\u001b[1;34m\u001b[0m\n\u001b[1;32m----> 1\u001b[1;33m \u001b[1;32mimport\u001b[0m \u001b[0mgeopandas\u001b[0m \u001b[1;32mas\u001b[0m \u001b[0mgpd\u001b[0m\u001b[1;33m\u001b[0m\u001b[1;33m\u001b[0m\u001b[0m\n\u001b[0m\u001b[0;32m      2\u001b[0m \u001b[1;32mimport\u001b[0m \u001b[0mpandas\u001b[0m \u001b[1;32mas\u001b[0m \u001b[0mpd\u001b[0m\u001b[1;33m\u001b[0m\u001b[1;33m\u001b[0m\u001b[0m\n\u001b[0;32m      3\u001b[0m \u001b[1;32mimport\u001b[0m \u001b[0mmatplotlib\u001b[0m\u001b[1;33m.\u001b[0m\u001b[0mpyplot\u001b[0m \u001b[1;32mas\u001b[0m \u001b[0mplt\u001b[0m\u001b[1;33m\u001b[0m\u001b[1;33m\u001b[0m\u001b[0m\n\u001b[0;32m      4\u001b[0m \u001b[1;32mimport\u001b[0m \u001b[0mos\u001b[0m\u001b[1;33m\u001b[0m\u001b[1;33m\u001b[0m\u001b[0m\n",
      "\u001b[1;31mModuleNotFoundError\u001b[0m: No module named 'geopandas'"
     ]
    }
   ],
   "source": [
    "import geopandas as gpd\n",
    "import pandas as pd\n",
    "import matplotlib.pyplot as plt\n",
    "import os"
   ]
  },
  {
   "cell_type": "code",
   "execution_count": null,
   "id": "54c4f4a7",
   "metadata": {},
   "outputs": [],
   "source": [
    "def translate_type_to_english(type):\n",
    "    if type == 'Hevoset ja ponit, kuivalanta yhteensä varastosta':\n",
    "        return 'Horses and Ponies, Total Solid Manure from Storage'\n",
    "    elif type == 'Nautojen lietelanta eläinsuojasta 2015':\n",
    "        return 'Beef Cattle Liquid Manure from Animal Housing'\n",
    "    elif type == 'Lihakarjan lietelanta eläinsuojasta':\n",
    "        return 'Beef Cattle Liquid Manure from Animal Housing'\n",
    "    elif type == 'Lihakarjan kuivalanta yhteensä varastosta':\n",
    "        return 'Beef Cattle Total Solid Manure from Storage'\n",
    "    elif type == 'Broilerit, kalkkunat ja muu siipikarja kuivalanta yhteensä varastosta':\n",
    "        return 'Broilers, Turkeys, and Other Poultry Total Solid Manure from Storage'\n",
    "    elif type == 'Emakot ja porsaat lietelanta eläinsuojasta':\n",
    "        return 'Sows and Piglets Liquid Manure from Animal Housing'\n",
    "    elif type == 'Sikojenkuivalantavarastosta2016':\n",
    "        return 'Sows and Piglets Total Solid Manure from Storage'\n",
    "    elif type == 'Emakot ja porsaat kuivalanta yhteensä varastosta':\n",
    "        return 'Sows and Piglets Total Solid Manure from Storage'\n",
    "    elif type == 'Sivuvirta: Kesantonurmi':\n",
    "        return 'Side-stream: Grassland Residue'\n",
    "    elif type == 'Sivuvirta: Olki':\n",
    "        return 'Side-stream: Straw'\n",
    "    elif type == 'Sivuvirta: Kuivaheinänurmet':\n",
    "        return 'Side-stream: Dry Hayfields'\n"
   ]
  },
  {
   "cell_type": "code",
   "execution_count": null,
   "id": "5a080680",
   "metadata": {},
   "outputs": [],
   "source": [
    "def deduce_TS_rate(type):\n",
    "    if type == 'Hevoset ja ponit, kuivalanta yhteensä varastosta':\n",
    "        return 35.0\n",
    "    elif type == 'Nautojen lietelanta eläinsuojasta 2015':\n",
    "        return 9.0\n",
    "    elif type == 'Lihakarjan lietelanta eläinsuojasta':\n",
    "        return 9.0\n",
    "    elif type == 'Lihakarjan kuivalanta yhteensä varastosta':\n",
    "        return 30.0\n",
    "    elif type == 'Broilerit, kalkkunat ja muu siipikarja kuivalanta yhteensä varastosta':\n",
    "        return 68.0\n",
    "    elif type == 'Emakot ja porsaat lietelanta eläinsuojasta':\n",
    "        return 8.2\n",
    "    elif type == 'Sikojenkuivalantavarastosta2016':\n",
    "        return 21.0\n",
    "    elif type == 'Emakot ja porsaat kuivalanta yhteensä varastosta':\n",
    "        return 21.0\n",
    "    elif type == 'Sivuvirta: Kesantonurmi':\n",
    "        return 30.0\n",
    "    elif type == 'Sivuvirta: Olki':\n",
    "        return 90.0\n",
    "    elif type == 'Sivuvirta: Kuivaheinänurmet':\n",
    "        return 40.0\n",
    "    else:\n",
    "        return 0.0  "
   ]
  },
  {
   "cell_type": "code",
   "execution_count": null,
   "id": "db3dd145",
   "metadata": {},
   "outputs": [],
   "source": [
    "def load_geojsons():\n",
    "    \n",
    "    folder_path = './geojsons/Nearest'\n",
    "    \n",
    "    # Get a list of all files in the folder\n",
    "    file_list = os.listdir(folder_path)\n",
    "    \n",
    "    # Initialize an empty list to store the GeoDataFrames\n",
    "    geojson_data = []\n",
    "    \n",
    "    for file_name in file_list:\n",
    "        if file_name.endswith('.geojson'):  \n",
    "            file_path = os.path.join(folder_path, file_name)\n",
    "            data = gpd.read_file(file_path)\n",
    "            data['TS-rate'] = data['Type'].apply(deduce_TS_rate)\n",
    "            data['Type'] = data['Type'].apply(translate_type_to_english)\n",
    "            geojson_data.append(data)\n",
    "            \n",
    "    return geojson_data"
   ]
  },
  {
   "cell_type": "code",
   "execution_count": null,
   "id": "43af574b",
   "metadata": {},
   "outputs": [],
   "source": [
    "def plot_geojson(geojson):\n",
    "    \n",
    "    color_mapping = {\n",
    "        translate_type_to_english('Hevoset ja ponit, kuivalanta yhteensä varastosta'): '#1f77b4',\n",
    "        translate_type_to_english('Nautojen lietelanta eläinsuojasta 2015'): '#ff7f0e',\n",
    "        translate_type_to_english('Lihakarjan lietelanta eläinsuojasta'): '#ff7f0e',\n",
    "        translate_type_to_english('Lihakarjan kuivalanta yhteensä varastosta'): '#2ca02c',\n",
    "        translate_type_to_english('Broilerit, kalkkunat ja muu siipikarja kuivalanta yhteensä varastosta'): '#d62728',\n",
    "        translate_type_to_english('Emakot ja porsaat lietelanta eläinsuojasta'): '#9467bd',\n",
    "        translate_type_to_english('Sikojenkuivalantavarastosta2016'): '#8c564b',\n",
    "        translate_type_to_english('Emakot ja porsaat kuivalanta yhteensä varastosta'): '#8c564b',\n",
    "        translate_type_to_english('Sivuvirta: Kesantonurmi'): '#e377c2',\n",
    "        translate_type_to_english('Sivuvirta: Olki'): '#7f7f7f',\n",
    "        translate_type_to_english('Sivuvirta: Kuivaheinänurmet'): '#17becf'\n",
    "    }\n",
    "        \n",
    "    unique_colors = list(set(color_mapping.values()))  # Get unique colors from the color mapping\n",
    "    \n",
    "    fig, ax = plt.subplots(figsize=(15, 10))\n",
    "    handles = []  # Store legend handles for unique colors\n",
    "\n",
    "    for index, row in geojson.iterrows():\n",
    "        color = color_mapping.get(row['Type'].strip(), 'k')  # Use black color if type not found in mapping\n",
    "        ax.plot(row['geometry'].x, row['geometry'].y, marker='o', markersize=8, color=color)\n",
    "\n",
    "    # Remove unwanted entries from color_mapping dictionary\n",
    " #   del color_mapping[translate_type_to_english('Nautojen lietelanta eläinsuojasta 2015')]\n",
    "  #  del color_mapping[translate_type_to_english('Sikojenkuivalantavarastosta2016')]\n",
    "        \n",
    "    # Create a legend\n",
    "    legend_handles = [plt.Line2D([0], [0], marker='o', color='w', markerfacecolor=color, markersize=8) for color in color_mapping.values()]\n",
    "    legend_labels = color_mapping.keys()\n",
    "    ax.legend(legend_handles, legend_labels, loc='center left', bbox_to_anchor=(1, 0.5))\n",
    "\n",
    "    # Set plot title and labels (customize as needed)\n",
    "    ax.set_title('Pick up sites for different biomass types')\n",
    "    ax.set_xlabel('Longitude')\n",
    "    ax.set_ylabel('Latitude')\n",
    "    \n",
    "    plt.tight_layout()\n",
    "    fig.savefig('nearestpickupsites.pdf', dpi=200)\n",
    "    \n",
    "    # Show the plot\n",
    "    plt.show()\n"
   ]
  },
  {
   "cell_type": "code",
   "execution_count": null,
   "id": "96420c0b",
   "metadata": {},
   "outputs": [],
   "source": [
    "def main():\n",
    "    \n",
    "    geojson_data = load_geojsons()\n",
    "    \n",
    "    # Concatenate all GeoDataFrames into a single GeoDataFrame\n",
    "    combined_data = gpd.GeoDataFrame(pd.concat(geojson_data, ignore_index=True))\n",
    "    # Save the combined GeoJSON to a file\n",
    "    combined_data.to_file('nearest_pickup_sites.geojson', driver='GeoJSON')\n",
    "    \n",
    "    plot_geojson(combined_data)"
   ]
  },
  {
   "cell_type": "code",
   "execution_count": null,
   "id": "2faf563b",
   "metadata": {},
   "outputs": [
    {
     "ename": "NameError",
     "evalue": "name 'gpd' is not defined",
     "output_type": "error",
     "traceback": [
      "\u001b[1;31m---------------------------------------------------------------------------\u001b[0m",
      "\u001b[1;31mNameError\u001b[0m                                 Traceback (most recent call last)",
      "\u001b[1;32m<ipython-input-10-263240bbee7e>\u001b[0m in \u001b[0;36m<module>\u001b[1;34m\u001b[0m\n\u001b[1;32m----> 1\u001b[1;33m \u001b[0mmain\u001b[0m\u001b[1;33m(\u001b[0m\u001b[1;33m)\u001b[0m\u001b[1;33m\u001b[0m\u001b[1;33m\u001b[0m\u001b[0m\n\u001b[0m",
      "\u001b[1;32m<ipython-input-9-91ea1a32b5c4>\u001b[0m in \u001b[0;36mmain\u001b[1;34m()\u001b[0m\n\u001b[0;32m      4\u001b[0m \u001b[1;33m\u001b[0m\u001b[0m\n\u001b[0;32m      5\u001b[0m     \u001b[1;31m# Concatenate all GeoDataFrames into a single GeoDataFrame\u001b[0m\u001b[1;33m\u001b[0m\u001b[1;33m\u001b[0m\u001b[1;33m\u001b[0m\u001b[0m\n\u001b[1;32m----> 6\u001b[1;33m     \u001b[0mcombined_data\u001b[0m \u001b[1;33m=\u001b[0m \u001b[0mgpd\u001b[0m\u001b[1;33m.\u001b[0m\u001b[0mGeoDataFrame\u001b[0m\u001b[1;33m(\u001b[0m\u001b[0mpd\u001b[0m\u001b[1;33m.\u001b[0m\u001b[0mconcat\u001b[0m\u001b[1;33m(\u001b[0m\u001b[0mgeojson_data\u001b[0m\u001b[1;33m,\u001b[0m \u001b[0mignore_index\u001b[0m\u001b[1;33m=\u001b[0m\u001b[1;32mTrue\u001b[0m\u001b[1;33m)\u001b[0m\u001b[1;33m)\u001b[0m\u001b[1;33m\u001b[0m\u001b[1;33m\u001b[0m\u001b[0m\n\u001b[0m\u001b[0;32m      7\u001b[0m     \u001b[0mprint\u001b[0m\u001b[1;33m(\u001b[0m\u001b[0mcombined_data\u001b[0m\u001b[1;33m)\u001b[0m\u001b[1;33m\u001b[0m\u001b[1;33m\u001b[0m\u001b[0m\n\u001b[0;32m      8\u001b[0m     \u001b[1;31m# Save the combined GeoJSON to a file\u001b[0m\u001b[1;33m\u001b[0m\u001b[1;33m\u001b[0m\u001b[1;33m\u001b[0m\u001b[0m\n",
      "\u001b[1;31mNameError\u001b[0m: name 'gpd' is not defined"
     ]
    }
   ],
   "source": [
    "main()"
   ]
  },
  {
   "cell_type": "code",
   "execution_count": null,
   "id": "6cb71fe6",
   "metadata": {},
   "outputs": [],
   "source": []
  }
 ],
 "metadata": {
  "kernelspec": {
   "display_name": "Python 3",
   "language": "python",
   "name": "python3"
  },
  "language_info": {
   "codemirror_mode": {
    "name": "ipython",
    "version": 3
   },
   "file_extension": ".py",
   "mimetype": "text/x-python",
   "name": "python",
   "nbconvert_exporter": "python",
   "pygments_lexer": "ipython3",
   "version": "3.8.8"
  }
 },
 "nbformat": 4,
 "nbformat_minor": 5
}
